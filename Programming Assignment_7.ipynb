{
 "cells": [
  {
   "cell_type": "markdown",
   "id": "35297a20",
   "metadata": {},
   "source": [
    "## Programming Basic Assignment 7"
   ]
  },
  {
   "cell_type": "markdown",
   "id": "27349114",
   "metadata": {},
   "source": [
    "### 1. Write a Python Program to find sum of array?"
   ]
  },
  {
   "cell_type": "code",
   "execution_count": null,
   "id": "008ab497",
   "metadata": {
    "vscode": {
     "languageId": "plaintext"
    }
   },
   "outputs": [],
   "source": [
    "arr = [1,2,3,4,5,6,7,8,9]\n",
    "ans = sum(arr,n)\n",
    "print('sum of the array is ', ans)\n"
   ]
  },
  {
   "cell_type": "markdown",
   "id": "171a980d",
   "metadata": {},
   "source": [
    "### 2. Write a Python Program to find largest element in an array?\n"
   ]
  },
  {
   "cell_type": "code",
   "execution_count": null,
   "id": "cd9d243f",
   "metadata": {
    "vscode": {
     "languageId": "plaintext"
    }
   },
   "outputs": [],
   "source": [
    "arr = [27,12,8,77,55]\n",
    "\n",
    "max = arr[0];\n",
    "for i in range(0, len(arr)):\n",
    "\n",
    "if(arr[i] > max):\n",
    "max = arr[i];\n",
    "\n",
    "print(\"largest element present in given array:\" + str(max));\n",
    "\n"
   ]
  },
  {
   "cell_type": "markdown",
   "id": "21613246",
   "metadata": {},
   "source": [
    "### 3. Write a Python Program for array rotation?"
   ]
  },
  {
   "cell_type": "code",
   "execution_count": null,
   "id": "0d3620f7",
   "metadata": {
    "vscode": {
     "languageId": "plaintext"
    }
   },
   "outputs": [],
   "source": [
    "def rotate_array(a,d):\n",
    " temp = []\n",
    " n=len(a)\n",
    " for i in range(d,n):\n",
    "  temp.append(a[i])\n",
    " i = 0 \n",
    " for i in range(0,d):\n",
    "  temp.append(a[i])\n",
    " a=temp.copy()\n",
    " return a\n",
    "\n",
    "arr = [1,2,3,4,5,6]\n",
    "print(\"array after left rotation is: \", end= ' ')\n",
    "print(rotate_array(arr, 2))\n",
    "\n"
   ]
  },
  {
   "cell_type": "markdown",
   "id": "3e52d939",
   "metadata": {},
   "source": [
    "### 4. Write a Python Program to Split the array and add the first part to the end?"
   ]
  },
  {
   "cell_type": "code",
   "execution_count": null,
   "id": "d6ba5d8c",
   "metadata": {
    "vscode": {
     "languageId": "plaintext"
    }
   },
   "outputs": [],
   "source": [
    "arr = [14, 12, 7, 8, 45, 35]\n",
    "n = len(arr)\n",
    "position = 2\n",
    "x = arr[:position]\n",
    "y = arr[position:]\n",
    "y.extend(x)\n",
    "for i in y:\n",
    "   print(i, end=\" \")\n",
    "\n",
    "   "
   ]
  },
  {
   "cell_type": "markdown",
   "id": "aa375779",
   "metadata": {},
   "source": [
    "### 5. Write a Python Program to check if given array is Monotonic?"
   ]
  },
  {
   "cell_type": "code",
   "execution_count": null,
   "id": "2a3fa484",
   "metadata": {
    "vscode": {
     "languageId": "plaintext"
    }
   },
   "outputs": [],
   "source": [
    "def isMonotonic(A)\n",
    "    return (all(a[i] <= A[i + 1] for i in range(len(A) - 1)) or\n",
    "    all(a[i] >= A[i + 1] for i in range(len(A) - 1)))\n",
    "\n",
    "A = [1,2,3,4,6,8]\n",
    "print(isMonotonic(A))    \n",
    "\n"
   ]
  }
 ],
 "metadata": {
  "kernelspec": {
   "display_name": "Python 3 (ipykernel)",
   "language": "python",
   "name": "python3"
  },
  "language_info": {
   "codemirror_mode": {
    "name": "ipython",
    "version": 3
   },
   "file_extension": ".py",
   "mimetype": "text/x-python",
   "name": "python",
   "nbconvert_exporter": "python",
   "pygments_lexer": "ipython3",
   "version": "3.9.12"
  }
 },
 "nbformat": 4,
 "nbformat_minor": 5
}
